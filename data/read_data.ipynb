{
 "cells": [
  {
   "cell_type": "markdown",
   "metadata": {},
   "source": [
    "# Reading Survey Data\n",
    "(Sanna Tyrvainen 2021)\n",
    "\n",
    "Code to read the soft CIFAR-10 survey results\n",
    "\n",
    "survey_answers = a pickle file with a list of arrays of survey results and original CIFAR-10 labels \n",
    "\n",
    "data_batch_1   = a pickle file of CIFAR-10 1/5 training dataset with a dictionary of \n",
    "                   * b'batch_label', = 'training batch 1 of 5'\n",
    "                   * b'labels'       = CIFAR-10 label \n",
    "                   * b'data'         = CIFAR-10 images\n",
    "                   * b'filenames'    = CIFAR-10 image names \n",
    "\n"
   ]
  },
  {
   "cell_type": "code",
   "execution_count": 7,
   "metadata": {},
   "outputs": [],
   "source": [
    "\n",
    "%matplotlib inline\n",
    "import matplotlib.pyplot as plt\n",
    "import numpy as np\n",
    "import pickle\n",
    "import torch\n",
    "\n",
    "\n",
    "def unpickle(file):\n",
    "    with open(file, 'rb') as fo:\n",
    "        dict = pickle.load(fo, encoding='bytes')\n",
    "    return dict\n",
    "    \n",
    "def imagshow(img):\n",
    "    plt.imshow(np.transpose(img, (1, 2, 0)))\n",
    "    plt.show()\n",
    "\n"
   ]
  },
  {
   "cell_type": "code",
   "execution_count": 8,
   "metadata": {},
   "outputs": [
    {
     "name": "stdout",
     "output_type": "stream",
     "text": [
      "Example:\n",
      "survey answer:  ([0, 0, 0, 0, 2, 0, 0, 4, 0, 0], 7)\n"
     ]
    },
    {
     "data": {
      "image/png": "[encoded data removed]",
      "text/plain": [
       "<Figure size 432x288 with 1 Axes>"
      ]
     },
     "metadata": {},
     "output_type": "display_data"
    },
    {
     "name": "stdout",
     "output_type": "stream",
     "text": [
      "7 horse\n"
     ]
    }
   ],
   "source": [
    "labels = unpickle('survey_answers');\n",
    "imgdict = unpickle('data_batch_1');\n",
    "\n",
    "imgdata   = imgdict[b'data'];\n",
    "labeldata = imgdict[b'labels'];\n",
    "\n",
    "class_names = ('plane', 'car', 'bird', 'cat', 'deer', 'dog', 'frog', 'horse', 'ship', 'truck') \n",
    "  \n",
    "images = imgdata.reshape(len(imgdata),3, 32,32)\n",
    "\n",
    "\n",
    "print('Example:')\n",
    "\n",
    "ii = 7\n",
    "\n",
    "print('survey answer: ', labels[ii])\n",
    "imagshow(images[ii])\n",
    "print(labeldata[ii], class_names[labels[ii][1]])\n"
   ]
  },
  {
   "cell_type": "code",
   "execution_count": 9,
   "metadata": {},
   "outputs": [
    {
     "data": {
      "text/plain": [
       "{b'num_cases_per_batch': 10000,\n",
       " b'label_names': [b'airplane',\n",
       "  b'automobile',\n",
       "  b'bird',\n",
       "  b'cat',\n",
       "  b'deer',\n",
       "  b'dog',\n",
       "  b'frog',\n",
       "  b'horse',\n",
       "  b'ship',\n",
       "  b'truck'],\n",
       " b'num_vis': 3072}"
      ]
     },
     "execution_count": 9,
     "metadata": {},
     "output_type": "execute_result"
    }
   ],
   "source": []
  },
  {
   "cell_type": "code",
   "execution_count": null,
   "metadata": {},
   "outputs": [],
   "source": []
  }
 ],
 "metadata": {
  "kernelspec": {
   "display_name": "Python 3",
   "language": "python",
   "name": "python3"
  },
  "language_info": {
   "codemirror_mode": {
    "name": "ipython",
    "version": 3
   },
   "file_extension": ".py",
   "mimetype": "text/x-python",
   "name": "python",
   "nbconvert_exporter": "python",
   "pygments_lexer": "ipython3",
   "version": "3.7.0"
  }
 },
 "nbformat": 4,
 "nbformat_minor": 2
}
