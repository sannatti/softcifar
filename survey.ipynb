{
 "cells": [
  {
   "cell_type": "markdown",
   "metadata": {},
   "source": [
    "## CIFAR 10 survey\n",
    "\n",
    "(Ophir Greif, Sanna Tyrvainen 2019)\n",
    "\n",
    "\n",
    "### Instructions for the survey:\n",
    "\n",
    "Give a rating on how sure you are about the image belonging to each category:\n",
    "\n",
    "4 =  You can say with 100% certainty that the photo definitely belongs to this category <br>\n",
    "3 = It's probably this category, but there are details that can be interpreted as something else <br>\n",
    "2 = The image might be in this category, but definitely can be in another category too <br>\n",
    "1 = There's a small chance that the image is part of this category <br> \n",
    "0 = There is no way this image falls under this category and there are no details of this in the image <br>\n",
    "\n",
    "Please try to choose at least 3 categories to be non-zero. \n",
    "\n",
    "Please run below cell. At the first time this might take a moment, because you might need to download new paackages."
   ]
  },
  {
   "cell_type": "code",
   "execution_count": 2,
   "metadata": {},
   "outputs": [],
   "source": [
    "import numpy             as np\n",
    "import matplotlib.pyplot as plt\n",
    "import smtplib\n",
    "import ipywidgets      as widgets\n",
    "from   ipywidgets      import Button, HBox, VBox\n",
    "from   IPython.display import display\n",
    "import os\n",
    "\n",
    "from   IPython.display import clear_output\n",
    "from IPython.display import display, HTML\n",
    "from IPython.display import FileLink, FileLinks\n",
    "from email.mime.multipart import MIMEMultipart \n",
    "from email.mime.text import MIMEText \n",
    "from email.mime.base import MIMEBase \n",
    "from email import encoders \n",
    "\n",
    "\n",
    "\n",
    "count = 0\n",
    "\n",
    "title = widgets.HTML(\n",
    "        value=\"<b>Image Survey</b>\",\n",
    "        placeholder='',\n",
    "        description='',\n",
    "    )\n",
    "\n",
    "instructions = widgets.HTML(\n",
    "        value=\"Instructions for survey:\",\n",
    "        placeholder='',\n",
    "        description='',\n",
    "    )\n",
    "\n",
    "i1 = widgets.HTML(\n",
    "        value=\"There will be displayed an image in front of you. You must go through each category below the image and choose the probability that the image may be the category given. \",\n",
    "        placeholder='',\n",
    "        description='',\n",
    "    )\n",
    "i2 = widgets.HTML(\n",
    "        value=\"Give a rating on how sure you are about the image belonging to each category:\",\n",
    "        placeholder='',\n",
    "        description='',\n",
    "    )\n",
    "r0 = widgets.HTML(\n",
    "        value=\"0 = There is no way this image falls under this category and there are no details of this in the image\",\n",
    "        placeholder='',\n",
    "        description='',\n",
    "    )\n",
    "r1 = widgets.HTML(\n",
    "        value=\"1 = There's a small chance that the image is part of this category\",\n",
    "        placeholder='',\n",
    "        description='',\n",
    "    )\n",
    "r2 = widgets.HTML(\n",
    "        value=\"2 = The image might be in this category, but definitely can be in another category too\",\n",
    "        placeholder='',\n",
    "        description='',\n",
    "    )\n",
    "r3 = widgets.HTML(\n",
    "        value=\"3 = It's probably this category, but there are details that can be interpreted as something else\",\n",
    "        placeholder='',\n",
    "        description='',\n",
    "    )\n",
    "r4 = widgets.HTML(\n",
    "        value=\"4 = You can say with 100% certainty that the photo definitely belongs to this category\",\n",
    "        placeholder='',\n",
    "        description='',\n",
    "    )\n",
    "r_0 = widgets.HTML(\n",
    "        value=\"0 = There is no way this image falls under this category and there are no details of this in the image\",\n",
    "        placeholder='',\n",
    "        description='',\n",
    "    )\n",
    "r_1 = widgets.HTML(\n",
    "        value=\"1 = There's a small chance that the image is part of this category\",\n",
    "        placeholder='',\n",
    "        description='',\n",
    "    )\n",
    "r_2 = widgets.HTML(\n",
    "        value=\"2 = The image might be in this category, but definitely can be in another category too\",\n",
    "        placeholder='',\n",
    "        description='',\n",
    "    )\n",
    "r_3 = widgets.HTML(\n",
    "        value=\"3 = It's probably this category, but there are details that can be interpreted as something else\",\n",
    "        placeholder='',\n",
    "        description='',\n",
    "    )\n",
    "r_4 = widgets.HTML(\n",
    "        value=\"4 = You can say with 100% certainty that the photo definitely belongs to this category\",\n",
    "        placeholder='',\n",
    "        description='',\n",
    "    )\n",
    "i3 = widgets.HTML(\n",
    "        value=\"Try to choose at least 3 categories to be non-zero.\",\n",
    "        placeholder='',\n",
    "        description='',\n",
    "    )\n",
    "i4 = widgets.HTML(\n",
    "        value=\"You will receive around 200 photos to look at and rate how much they look like each object. This should take around an hour. Once you are done rating the photos, the survey will naturally finish. If you do not do not have time to complete rating the photos, press the button done!. DO NOT press done! if you are not finished, as you will have to restart your work. Once you are done, you must email the results.\",\n",
    "        placeholder='',\n",
    "        description='',\n",
    "    )\n",
    "\n",
    "\n",
    "#Importing all files needed for this notebook\n",
    "\n",
    "\n",
    "filename   = 'data/data_batch_1'\n",
    "filename2 = 'data/batch_names_1'\n",
    "\n",
    "def unpickle(file):\n",
    "    import pickle\n",
    "    with open(file, 'rb') as fo:\n",
    "        dict = pickle.load(fo, encoding='bytes')\n",
    "    return dict\n",
    "\n",
    "file = unpickle(filename)\n",
    "file2 = unpickle(filename2)\n",
    "\n",
    "images = file[b'data'] \n",
    "labels = file[b'labels']\n",
    "label_names = file2[b'label_names']\n",
    "\n",
    "#loading all file data onto notebook\n",
    "\n",
    "images = images.reshape(len(labels), 3, 32, 32)\n",
    "\n",
    "def imagshow(img):\n",
    "    plt.imshow(np.transpose(img, (1, 2, 0))) #flip the grid from side to normal\n",
    "    plt.show()\n",
    "# plotting and showing the images\n",
    "\n",
    "\n",
    "dataset = {}\n",
    "total = len(images)\n",
    "image_ids = np.arange(total)\n",
    "images_per_person = 200\n",
    "people = int(total/images_per_person)\n",
    "for I in range(people):\n",
    "    ind1 = I*images_per_person\n",
    "    ind2 = (I+1)*images_per_person\n",
    "    dataset[I] = images[ind1:ind2,:,:,:]\n",
    "results= {}    \n",
    "I = 0\n",
    "answers = []\n",
    "datalen = len(labels)\n",
    "\n",
    "#arranging all the data to be used    \n",
    "\n",
    "def user(b):\n",
    "    display(widgets.VBox([name, userid, submit]))\n",
    "    instructions.close()\n",
    "    title.close()\n",
    "    i1.close()\n",
    "    r0.close()\n",
    "    r1.close()\n",
    "    r2.close()\n",
    "    r3.close()\n",
    "    r4.close()\n",
    "    i2.close()\n",
    "    i3.close()\n",
    "    i4.close()\n",
    "    ok.close()\n",
    "\n",
    "def user_id_images(b):\n",
    "    display(r_4)\n",
    "    display(r_3)\n",
    "    display(r_2)\n",
    "    display(r_1)\n",
    "    display(r_0)\n",
    "    global count \n",
    "    try: \n",
    "        R = userid.value\n",
    "#       images = dataset[R]\n",
    "        invalid.close()\n",
    "        with out:\n",
    "            imagshow(images[R*images_per_person])\n",
    "        display(out)\n",
    "        display(widgets.VBox([widgetsBox, buttonNext]))\n",
    "        display(widgets.VBox([done]))\n",
    "        userid.close()\n",
    "        submit.close()\n",
    "        name.close()\n",
    "    except:\n",
    "        if count == 0:\n",
    "            display(invalid)\n",
    "            count+=1\n",
    "        else:\n",
    "            count+=1\n",
    "            \n",
    "      \n",
    "    \n",
    "    \n",
    "def on_buttonNext_clicked(b):\n",
    "    R = userid.value\n",
    "    V1 = userid.value\n",
    "    images = dataset[R]\n",
    "    global V\n",
    "    #Only changes I for individual actions\n",
    "    V = V+1\n",
    "    if V < images_per_person:\n",
    "        with out: \n",
    "        #Do the things within \"out\" - which is the widget output\n",
    "            row = []\n",
    "        #The newlist that the answers will be appended to\n",
    "            for l in range(0,len(widget_labels)): #Creating widget answers by changing the individual widget values\n",
    "                row.extend([items[l].value]) #appending the widget answers \n",
    "                items[l].value = 0 #Resets the values\n",
    "            answers.append(row) #Puts in the new row answers into the overall answers\n",
    "            ID = (images_per_person*R)+V\n",
    "            results[V-1] = ID-1, row, labels[ID-1]\n",
    "            clear_output() #Resets the widget numbers\n",
    "            imagshow(images[V]) #Displays a new image \n",
    "            images_done = widgets.HTML(\n",
    "                value= str(len(results)) + \"/\" + str(images_per_person),\n",
    "                placeholder='',\n",
    "                description='',\n",
    "            )\n",
    "            display(images_done)\n",
    "    else:\n",
    "        with out: \n",
    "        #Do the things within \"out\" - which is the widget output\n",
    "            row = []\n",
    "        #The newlist that the answers will be appended to\n",
    "            for l in range(0,len(widget_labels)): #Creating widget answers by changing the individual widget values\n",
    "                row.extend([items[l].value]) #appending the widget answers \n",
    "                items[l].value = 0 #Resets the values\n",
    "            answers.append(row) #Puts in the new row answers into the overall answers\n",
    "            ID = (images_per_person*R)+V\n",
    "            results[V-1] = ID-1, row, labels[ID-1]\n",
    "        finished_survey(b)\n",
    "\n",
    "        \n",
    "#Moving onto the next question\n",
    "\n",
    "\n",
    "\n",
    "dataresults = 'dataresults.npz'\n",
    "def finished_survey(b):\n",
    "    r_4.close()\n",
    "    r_3.close()\n",
    "    r_2.close()\n",
    "    r_1.close()\n",
    "    r_0.close()\n",
    "    N = name.value\n",
    "    V1 = userid.value\n",
    "    ID1= (images_per_person*V1)\n",
    "    ID2 = len(results)+ID1-1\n",
    "    widgetsBox.close()\n",
    "    buttonNext.close()\n",
    "    out.close()\n",
    "    done.close()\n",
    "    print(\"\"\"Thank you! Please copy and paste the following results and send to xxx\n",
    "    \n",
    "    \n",
    "    To: xxx\n",
    "    \n",
    "    Subject: {N}({V1}):{ID1}-{ID2}\n",
    "    \n",
    "    Body: {results}\n",
    "    \n",
    "    \"\"\".format(N=str(N),V1=str(V1),ID1=str(ID1),ID2=str(ID2), results=str(results))) "
   ]
  },
  {
   "cell_type": "code",
   "execution_count": 3,
   "metadata": {},
   "outputs": [
    {
     "data": {
      "application/vnd.jupyter.widget-view+json": {
       "model_id": "",
       "version_major": 2,
       "version_minor": 0
      },
      "text/plain": [
       "HTML(value='<b>Image Survey</b>', placeholder='')"
      ]
     },
     "metadata": {},
     "output_type": "display_data"
    },
    {
     "data": {
      "application/vnd.jupyter.widget-view+json": {
       "model_id": "",
       "version_major": 2,
       "version_minor": 0
      },
      "text/plain": [
       "HTML(value='Instructions for survey:', placeholder='')"
      ]
     },
     "metadata": {},
     "output_type": "display_data"
    },
    {
     "data": {
      "application/vnd.jupyter.widget-view+json": {
       "model_id": "",
       "version_major": 2,
       "version_minor": 0
      },
      "text/plain": [
       "HTML(value='There will be displayed an image in front of you. You must go through each category below the imag…"
      ]
     },
     "metadata": {},
     "output_type": "display_data"
    },
    {
     "data": {
      "application/vnd.jupyter.widget-view+json": {
       "model_id": "",
       "version_major": 2,
       "version_minor": 0
      },
      "text/plain": [
       "HTML(value='Give a rating on how sure you are about the image belonging to each category:', placeholder='')"
      ]
     },
     "metadata": {},
     "output_type": "display_data"
    },
    {
     "data": {
      "application/vnd.jupyter.widget-view+json": {
       "model_id": "",
       "version_major": 2,
       "version_minor": 0
      },
      "text/plain": [
       "HTML(value='4 = You can say with 100% certainty that the photo definitely belongs to this category', placehold…"
      ]
     },
     "metadata": {},
     "output_type": "display_data"
    },
    {
     "data": {
      "application/vnd.jupyter.widget-view+json": {
       "model_id": "",
       "version_major": 2,
       "version_minor": 0
      },
      "text/plain": [
       "HTML(value=\"3 = It's probably this category, but there are details that can be interpreted as something else\",…"
      ]
     },
     "metadata": {},
     "output_type": "display_data"
    },
    {
     "data": {
      "application/vnd.jupyter.widget-view+json": {
       "model_id": "",
       "version_major": 2,
       "version_minor": 0
      },
      "text/plain": [
       "HTML(value='2 = The image might be in this category, but definitely can be in another category too', placehold…"
      ]
     },
     "metadata": {},
     "output_type": "display_data"
    },
    {
     "data": {
      "application/vnd.jupyter.widget-view+json": {
       "model_id": "",
       "version_major": 2,
       "version_minor": 0
      },
      "text/plain": [
       "HTML(value=\"1 = There's a small chance that the image is part of this category\", placeholder='')"
      ]
     },
     "metadata": {},
     "output_type": "display_data"
    },
    {
     "data": {
      "application/vnd.jupyter.widget-view+json": {
       "model_id": "",
       "version_major": 2,
       "version_minor": 0
      },
      "text/plain": [
       "HTML(value='0 = There is no way this image falls under this category and there are no details of this in the i…"
      ]
     },
     "metadata": {},
     "output_type": "display_data"
    },
    {
     "data": {
      "application/vnd.jupyter.widget-view+json": {
       "model_id": "",
       "version_major": 2,
       "version_minor": 0
      },
      "text/plain": [
       "HTML(value='Try to choose at least 3 categories to be non-zero.', placeholder='')"
      ]
     },
     "metadata": {},
     "output_type": "display_data"
    },
    {
     "data": {
      "application/vnd.jupyter.widget-view+json": {
       "model_id": "",
       "version_major": 2,
       "version_minor": 0
      },
      "text/plain": [
       "HTML(value='You will receive around 200 photos to look at and rate how much they look like each object. This s…"
      ]
     },
     "metadata": {},
     "output_type": "display_data"
    },
    {
     "data": {
      "application/vnd.jupyter.widget-view+json": {
       "model_id": "",
       "version_major": 2,
       "version_minor": 0
      },
      "text/plain": [
       "Button(description='OK', style=ButtonStyle())"
      ]
     },
     "metadata": {},
     "output_type": "display_data"
    },
    {
     "data": {
      "application/vnd.jupyter.widget-view+json": {
       "model_id": "503cef59e8404bf0a23a5158d48391fa",
       "version_major": 2,
       "version_minor": 0
      },
      "text/plain": [
       "VBox(children=(Text(value='', description='Full Name:', placeholder=' '), IntText(value=0, description='USER I…"
      ]
     },
     "metadata": {},
     "output_type": "display_data"
    },
    {
     "data": {
      "application/vnd.jupyter.widget-view+json": {
       "model_id": "",
       "version_major": 2,
       "version_minor": 0
      },
      "text/plain": [
       "HTML(value='4 = You can say with 100% certainty that the photo definitely belongs to this category', placehold…"
      ]
     },
     "metadata": {},
     "output_type": "display_data"
    },
    {
     "data": {
      "application/vnd.jupyter.widget-view+json": {
       "model_id": "",
       "version_major": 2,
       "version_minor": 0
      },
      "text/plain": [
       "HTML(value=\"3 = It's probably this category, but there are details that can be interpreted as something else\",…"
      ]
     },
     "metadata": {},
     "output_type": "display_data"
    },
    {
     "data": {
      "application/vnd.jupyter.widget-view+json": {
       "model_id": "",
       "version_major": 2,
       "version_minor": 0
      },
      "text/plain": [
       "HTML(value='2 = The image might be in this category, but definitely can be in another category too', placehold…"
      ]
     },
     "metadata": {},
     "output_type": "display_data"
    },
    {
     "data": {
      "application/vnd.jupyter.widget-view+json": {
       "model_id": "",
       "version_major": 2,
       "version_minor": 0
      },
      "text/plain": [
       "HTML(value=\"1 = There's a small chance that the image is part of this category\", placeholder='')"
      ]
     },
     "metadata": {},
     "output_type": "display_data"
    },
    {
     "data": {
      "application/vnd.jupyter.widget-view+json": {
       "model_id": "",
       "version_major": 2,
       "version_minor": 0
      },
      "text/plain": [
       "HTML(value='0 = There is no way this image falls under this category and there are no details of this in the i…"
      ]
     },
     "metadata": {},
     "output_type": "display_data"
    },
    {
     "data": {
      "application/vnd.jupyter.widget-view+json": {
       "model_id": "",
       "version_major": 2,
       "version_minor": 0
      },
      "text/plain": [
       "Output()"
      ]
     },
     "metadata": {},
     "output_type": "display_data"
    },
    {
     "data": {
      "application/vnd.jupyter.widget-view+json": {
       "model_id": "9f44ad8a630647b88b8533ef23390925",
       "version_major": 2,
       "version_minor": 0
      },
      "text/plain": [
       "VBox(children=(HBox(children=(VBox(children=(Label(value='airplane'), RadioButtons(index=4, layout=Layout(heig…"
      ]
     },
     "metadata": {},
     "output_type": "display_data"
    },
    {
     "data": {
      "application/vnd.jupyter.widget-view+json": {
       "model_id": "3d98dfbfb585458087227c906c5a70f8",
       "version_major": 2,
       "version_minor": 0
      },
      "text/plain": [
       "VBox(children=(Button(description='Done!', style=ButtonStyle()),))"
      ]
     },
     "metadata": {},
     "output_type": "display_data"
    },
    {
     "name": "stdout",
     "output_type": "stream",
     "text": [
      "Thank you! Please copy and paste the following results and send to cifar10surveyanswers@gmail.com\n",
      "    \n",
      "    \n",
      "    To: cifar10surveyanswers@gmail.com\n",
      "    \n",
      "    Subject: ---(5):1000-1199\n",
      "    \n",
      "    Body: {0: (1000, [0, 0, 0, 0, 0, 0, 0, 0, 0, 0], 9), 1: (1001, [0, 0, 0, 0, 0, 0, 0, 0, 0, 0], 4), 2: (1002, [0, 0, 0, 0, 0, 0, 0, 0, 0, 0], 3), 3: (1003, [0, 0, 0, 0, 0, 0, 0, 0, 0, 0], 2), 4: (1004, [0, 0, 0, 0, 0, 0, 0, 0, 0, 0], 4), 5: (1005, [0, 0, 0, 0, 0, 0, 0, 0, 0, 0], 4), 6: (1006, [0, 0, 0, 0, 0, 0, 0, 0, 0, 0], 1), 7: (1007, [0, 0, 0, 0, 0, 0, 0, 0, 0, 0], 4), 8: (1008, [0, 0, 0, 0, 0, 0, 0, 0, 0, 0], 2), 9: (1009, [0, 0, 0, 0, 0, 0, 0, 0, 0, 0], 2), 10: (1010, [0, 0, 0, 0, 0, 0, 0, 0, 0, 0], 3), 11: (1011, [0, 0, 0, 0, 0, 0, 0, 0, 0, 0], 8), 12: (1012, [0, 0, 0, 0, 0, 0, 0, 0, 0, 0], 0), 13: (1013, [0, 0, 0, 0, 0, 0, 0, 0, 0, 0], 6), 14: (1014, [0, 0, 0, 0, 0, 0, 0, 0, 0, 0], 8), 15: (1015, [0, 0, 0, 0, 0, 0, 0, 0, 0, 0], 5), 16: (1016, [0, 0, 0, 0, 0, 0, 0, 0, 0, 0], 6), 17: (1017, [0, 0, 0, 0, 0, 0, 0, 0, 0, 0], 6), 18: (1018, [0, 0, 0, 0, 0, 0, 0, 0, 0, 0], 4), 19: (1019, [0, 0, 0, 0, 0, 0, 0, 0, 0, 0], 7), 20: (1020, [0, 0, 0, 0, 0, 0, 0, 0, 0, 0], 1), 21: (1021, [0, 0, 0, 0, 0, 0, 0, 0, 0, 0], 1), 22: (1022, [0, 0, 0, 0, 0, 0, 0, 0, 0, 0], 4), 23: (1023, [0, 0, 0, 0, 0, 0, 0, 0, 0, 0], 6), 24: (1024, [0, 0, 0, 0, 0, 0, 0, 0, 0, 0], 2), 25: (1025, [0, 0, 0, 0, 0, 0, 0, 0, 0, 0], 3), 26: (1026, [0, 0, 0, 0, 0, 0, 0, 0, 0, 0], 9), 27: (1027, [0, 0, 0, 0, 0, 0, 0, 0, 0, 0], 6), 28: (1028, [0, 0, 0, 0, 0, 0, 0, 0, 0, 0], 9), 29: (1029, [0, 0, 0, 0, 0, 0, 0, 0, 0, 0], 1), 30: (1030, [0, 0, 0, 0, 0, 0, 0, 0, 0, 0], 3), 31: (1031, [0, 0, 0, 0, 0, 0, 0, 0, 0, 0], 6), 32: (1032, [0, 0, 0, 0, 0, 0, 0, 0, 0, 0], 8), 33: (1033, [0, 0, 0, 0, 0, 0, 0, 0, 0, 0], 5), 34: (1034, [0, 0, 0, 0, 0, 0, 0, 0, 0, 0], 9), 35: (1035, [0, 0, 0, 0, 0, 0, 0, 0, 0, 0], 6), 36: (1036, [0, 0, 0, 0, 0, 0, 0, 0, 0, 0], 8), 37: (1037, [0, 0, 0, 0, 0, 0, 0, 0, 0, 0], 1), 38: (1038, [0, 0, 0, 0, 0, 0, 0, 0, 0, 0], 6), 39: (1039, [0, 0, 0, 0, 0, 0, 0, 0, 0, 0], 0), 40: (1040, [0, 0, 0, 0, 0, 0, 0, 0, 0, 0], 2), 41: (1041, [0, 0, 0, 0, 0, 0, 0, 0, 0, 0], 3), 42: (1042, [0, 0, 0, 0, 0, 0, 0, 0, 0, 0], 7), 43: (1043, [0, 0, 0, 0, 0, 0, 0, 0, 0, 0], 9), 44: (1044, [0, 0, 0, 0, 0, 0, 0, 0, 0, 0], 0), 45: (1045, [0, 0, 0, 0, 0, 0, 0, 0, 0, 0], 9), 46: (1046, [0, 0, 0, 0, 0, 0, 0, 0, 0, 0], 7), 47: (1047, [0, 0, 0, 0, 0, 0, 0, 0, 0, 0], 6), 48: (1048, [0, 0, 0, 0, 0, 0, 0, 0, 0, 0], 3), 49: (1049, [0, 0, 0, 0, 0, 0, 0, 0, 0, 0], 9), 50: (1050, [0, 0, 0, 0, 0, 0, 0, 0, 0, 0], 2), 51: (1051, [0, 0, 0, 0, 0, 0, 0, 0, 0, 0], 6), 52: (1052, [0, 0, 0, 0, 0, 0, 0, 0, 0, 0], 1), 53: (1053, [0, 0, 0, 0, 0, 0, 0, 0, 0, 0], 6), 54: (1054, [0, 0, 0, 0, 0, 0, 0, 0, 0, 0], 7), 55: (1055, [0, 0, 0, 0, 0, 0, 0, 0, 0, 0], 3), 56: (1056, [0, 0, 0, 0, 0, 0, 0, 0, 0, 0], 8), 57: (1057, [0, 0, 0, 0, 0, 0, 0, 0, 0, 0], 3), 58: (1058, [0, 0, 0, 0, 0, 0, 0, 0, 0, 0], 8), 59: (1059, [0, 0, 0, 0, 0, 0, 0, 0, 0, 0], 3), 60: (1060, [0, 0, 0, 0, 0, 0, 0, 0, 0, 0], 8), 61: (1061, [0, 0, 0, 0, 0, 0, 0, 0, 0, 0], 5), 62: (1062, [0, 0, 0, 0, 0, 0, 0, 0, 0, 0], 9), 63: (1063, [0, 0, 0, 0, 0, 0, 0, 0, 0, 0], 6), 64: (1064, [0, 0, 0, 0, 0, 0, 0, 0, 0, 0], 1), 65: (1065, [0, 0, 0, 0, 0, 0, 0, 0, 0, 0], 2), 66: (1066, [0, 0, 0, 0, 0, 0, 0, 0, 0, 0], 5), 67: (1067, [0, 0, 0, 0, 0, 0, 0, 0, 0, 0], 2), 68: (1068, [0, 0, 0, 0, 0, 0, 0, 0, 0, 0], 1), 69: (1069, [0, 0, 0, 0, 0, 0, 0, 0, 0, 0], 4), 70: (1070, [0, 0, 0, 0, 0, 0, 0, 0, 0, 0], 3), 71: (1071, [0, 0, 0, 0, 0, 0, 0, 0, 0, 0], 7), 72: (1072, [0, 0, 0, 0, 0, 0, 0, 0, 0, 0], 5), 73: (1073, [0, 0, 0, 0, 0, 0, 0, 0, 0, 0], 9), 74: (1074, [0, 0, 0, 0, 0, 0, 0, 0, 0, 0], 3), 75: (1075, [0, 0, 0, 0, 0, 0, 0, 0, 0, 0], 9), 76: (1076, [0, 0, 0, 0, 0, 0, 0, 0, 0, 0], 3), 77: (1077, [0, 0, 0, 0, 0, 0, 0, 0, 0, 0], 2), 78: (1078, [0, 0, 0, 0, 0, 0, 0, 0, 0, 0], 9), 79: (1079, [0, 0, 0, 0, 0, 0, 0, 0, 0, 0], 1), 80: (1080, [0, 0, 0, 0, 0, 0, 0, 0, 0, 0], 8), 81: (1081, [0, 0, 0, 0, 0, 0, 0, 0, 0, 0], 5), 82: (1082, [0, 0, 0, 0, 0, 0, 0, 0, 0, 0], 9), 83: (1083, [0, 0, 0, 0, 0, 0, 0, 0, 0, 0], 7), 84: (1084, [0, 0, 0, 0, 0, 0, 0, 0, 0, 0], 2), 85: (1085, [0, 0, 0, 0, 0, 0, 0, 0, 0, 0], 6), 86: (1086, [0, 0, 0, 0, 0, 0, 0, 0, 0, 0], 0), 87: (1087, [0, 0, 0, 0, 0, 0, 0, 0, 0, 0], 8), 88: (1088, [0, 0, 0, 0, 0, 0, 0, 0, 0, 0], 5), 89: (1089, [0, 0, 0, 0, 0, 0, 0, 0, 0, 0], 7), 90: (1090, [0, 0, 0, 0, 0, 0, 0, 0, 0, 0], 1), 91: (1091, [0, 0, 0, 0, 0, 0, 0, 0, 0, 0], 5), 92: (1092, [0, 0, 0, 0, 0, 0, 0, 0, 0, 0], 8), 93: (1093, [0, 0, 0, 0, 0, 0, 0, 0, 0, 0], 5), 94: (1094, [0, 0, 0, 0, 0, 0, 0, 0, 0, 0], 7), 95: (1095, [0, 0, 0, 0, 0, 0, 0, 0, 0, 0], 1), 96: (1096, [0, 0, 0, 0, 0, 0, 0, 0, 0, 0], 5), 97: (1097, [0, 0, 0, 0, 0, 0, 0, 0, 0, 0], 0), 98: (1098, [0, 0, 0, 0, 0, 0, 0, 0, 0, 0], 3), 99: (1099, [0, 0, 0, 0, 0, 0, 0, 0, 0, 0], 9), 100: (1100, [0, 0, 0, 0, 0, 0, 0, 0, 0, 0], 3), 101: (1101, [0, 0, 0, 0, 0, 0, 0, 0, 0, 0], 6), 102: (1102, [0, 0, 0, 0, 0, 0, 0, 0, 0, 0], 9), 103: (1103, [0, 0, 0, 0, 0, 0, 0, 0, 0, 0], 1), 104: (1104, [0, 0, 0, 0, 0, 0, 0, 0, 0, 0], 3), 105: (1105, [0, 0, 0, 0, 0, 0, 0, 0, 0, 0], 9), 106: (1106, [0, 0, 0, 0, 0, 0, 0, 0, 0, 0], 8), 107: (1107, [0, 0, 0, 0, 0, 0, 0, 0, 0, 0], 2), 108: (1108, [0, 0, 0, 0, 0, 0, 0, 0, 0, 0], 2), 109: (1109, [0, 0, 0, 0, 0, 0, 0, 0, 0, 0], 3), 110: (1110, [0, 0, 0, 0, 0, 0, 0, 0, 0, 0], 2), 111: (1111, [0, 0, 0, 0, 0, 0, 0, 0, 0, 0], 5), 112: (1112, [0, 0, 0, 0, 0, 0, 0, 0, 0, 0], 9), 113: (1113, [0, 0, 0, 0, 0, 0, 0, 0, 0, 0], 7), 114: (1114, [0, 0, 0, 0, 0, 0, 0, 0, 0, 0], 9), 115: (1115, [0, 0, 0, 0, 0, 0, 0, 0, 0, 0], 9), 116: (1116, [0, 0, 0, 0, 0, 0, 0, 0, 0, 0], 8), 117: (1117, [0, 0, 0, 0, 0, 0, 0, 0, 0, 0], 9), 118: (1118, [0, 0, 0, 0, 0, 0, 0, 0, 0, 0], 7), 119: (1119, [0, 0, 0, 0, 0, 0, 0, 0, 0, 0], 0), 120: (1120, [0, 0, 0, 0, 0, 0, 0, 0, 0, 0], 3), 121: (1121, [0, 0, 0, 0, 0, 0, 0, 0, 0, 0], 3), 122: (1122, [0, 0, 0, 0, 0, 0, 0, 0, 0, 0], 2), 123: (1123, [0, 0, 0, 0, 0, 0, 0, 0, 0, 0], 0), 124: (1124, [0, 0, 0, 0, 0, 0, 0, 0, 0, 0], 3), 125: (1125, [0, 0, 0, 0, 0, 0, 0, 0, 0, 0], 7), 126: (1126, [0, 0, 0, 0, 0, 0, 0, 0, 0, 0], 6), 127: (1127, [0, 0, 0, 0, 0, 0, 0, 0, 0, 0], 3), 128: (1128, [0, 0, 0, 0, 0, 0, 0, 0, 0, 0], 3), 129: (1129, [0, 0, 0, 0, 0, 0, 0, 0, 0, 0], 2), 130: (1130, [0, 0, 0, 0, 0, 0, 0, 0, 0, 0], 0), 131: (1131, [0, 0, 0, 0, 0, 0, 0, 0, 0, 0], 6), 132: (1132, [0, 0, 0, 0, 0, 0, 0, 0, 0, 0], 6), 133: (1133, [0, 0, 0, 0, 0, 0, 0, 0, 0, 0], 5), 134: (1134, [0, 0, 0, 0, 0, 0, 0, 0, 0, 0], 5), 135: (1135, [0, 0, 0, 0, 0, 0, 0, 0, 0, 0], 7), 136: (1136, [0, 0, 0, 0, 0, 0, 0, 0, 0, 0], 5), 137: (1137, [0, 0, 0, 0, 0, 0, 0, 0, 0, 0], 9), 138: (1138, [0, 0, 0, 0, 0, 0, 0, 0, 0, 0], 8), 139: (1139, [0, 0, 0, 0, 0, 0, 0, 0, 0, 0], 2), 140: (1140, [0, 0, 0, 0, 0, 0, 0, 0, 0, 0], 9), 141: (1141, [0, 0, 0, 0, 0, 0, 0, 0, 0, 0], 8), 142: (1142, [0, 0, 0, 0, 0, 0, 0, 0, 0, 0], 0), 143: (1143, [0, 0, 0, 0, 0, 0, 0, 0, 0, 0], 4), 144: (1144, [0, 0, 0, 0, 0, 0, 0, 0, 0, 0], 0), 145: (1145, [0, 0, 0, 0, 0, 0, 0, 0, 0, 0], 1), 146: (1146, [0, 0, 0, 0, 0, 0, 0, 0, 0, 0], 2), 147: (1147, [0, 0, 0, 0, 0, 0, 0, 0, 0, 0], 0), 148: (1148, [0, 0, 0, 0, 0, 0, 0, 0, 0, 0], 4), 149: (1149, [0, 0, 0, 0, 0, 0, 0, 0, 0, 0], 7), 150: (1150, [0, 0, 0, 0, 0, 0, 0, 0, 0, 0], 3), 151: (1151, [0, 0, 0, 0, 0, 0, 0, 0, 0, 0], 8), 152: (1152, [0, 0, 0, 0, 0, 0, 0, 0, 0, 0], 5), 153: (1153, [0, 0, 0, 0, 0, 0, 0, 0, 0, 0], 1), 154: (1154, [0, 0, 0, 0, 0, 0, 0, 0, 0, 0], 6), 155: (1155, [0, 0, 0, 0, 0, 0, 0, 0, 0, 0], 6), 156: (1156, [0, 0, 0, 0, 0, 0, 0, 0, 0, 0], 5), 157: (1157, [0, 0, 0, 0, 0, 0, 0, 0, 0, 0], 5), 158: (1158, [0, 0, 0, 0, 0, 0, 0, 0, 0, 0], 4), 159: (1159, [0, 0, 0, 0, 0, 0, 0, 0, 0, 0], 6), 160: (1160, [0, 0, 0, 0, 0, 0, 0, 0, 0, 0], 3), 161: (1161, [0, 0, 0, 0, 0, 0, 0, 0, 0, 0], 6), 162: (1162, [0, 0, 0, 0, 0, 0, 0, 0, 0, 0], 8), 163: (1163, [0, 0, 0, 0, 0, 0, 0, 0, 0, 0], 2), 164: (1164, [0, 0, 0, 0, 0, 0, 0, 0, 0, 0], 3), 165: (1165, [0, 0, 0, 0, 0, 0, 0, 0, 0, 0], 7), 166: (1166, [0, 0, 0, 0, 0, 0, 0, 0, 0, 0], 0), 167: (1167, [0, 0, 0, 0, 0, 0, 0, 0, 0, 0], 7), 168: (1168, [0, 0, 0, 0, 0, 0, 0, 0, 0, 0], 0), 169: (1169, [0, 0, 0, 0, 0, 0, 0, 0, 0, 0], 4), 170: (1170, [0, 0, 0, 0, 0, 0, 0, 0, 0, 0], 1), 171: (1171, [0, 0, 0, 0, 0, 0, 0, 0, 0, 0], 9), 172: (1172, [0, 0, 0, 0, 0, 0, 0, 0, 0, 0], 5), 173: (1173, [0, 0, 0, 0, 0, 0, 0, 0, 0, 0], 7), 174: (1174, [0, 0, 0, 0, 0, 0, 0, 0, 0, 0], 8), 175: (1175, [0, 0, 0, 0, 0, 0, 0, 0, 0, 0], 6), 176: (1176, [0, 0, 0, 0, 0, 0, 0, 0, 0, 0], 6), 177: (1177, [0, 0, 0, 0, 0, 0, 0, 0, 0, 0], 8), 178: (1178, [0, 0, 0, 0, 0, 0, 0, 0, 0, 0], 0), 179: (1179, [0, 0, 0, 0, 0, 0, 0, 0, 0, 0], 7), 180: (1180, [0, 0, 0, 0, 0, 0, 0, 0, 0, 0], 2), 181: (1181, [0, 0, 0, 0, 0, 0, 0, 0, 0, 0], 8), 182: (1182, [0, 0, 0, 0, 0, 0, 0, 0, 0, 0], 4), 183: (1183, [0, 0, 0, 0, 0, 0, 0, 0, 0, 0], 8), 184: (1184, [0, 0, 0, 0, 0, 0, 0, 0, 0, 0], 2), 185: (1185, [0, 0, 0, 0, 0, 0, 0, 0, 0, 0], 0), 186: (1186, [0, 0, 0, 0, 0, 0, 0, 0, 0, 0], 9), 187: (1187, [0, 0, 0, 0, 0, 0, 0, 0, 0, 0], 0), 188: (1188, [0, 0, 0, 0, 0, 0, 0, 0, 0, 0], 0), 189: (1189, [0, 0, 0, 0, 0, 0, 0, 0, 0, 0], 2), 190: (1190, [0, 0, 0, 0, 0, 0, 0, 0, 0, 0], 9), 191: (1191, [0, 0, 0, 0, 0, 0, 0, 0, 0, 0], 6), 192: (1192, [0, 0, 0, 0, 0, 0, 0, 0, 0, 0], 6), 193: (1193, [0, 0, 0, 0, 0, 0, 0, 0, 0, 0], 5), 194: (1194, [0, 0, 0, 0, 0, 0, 0, 0, 0, 0], 6), 195: (1195, [0, 0, 0, 0, 0, 0, 0, 0, 0, 0], 0), 196: (1196, [0, 0, 0, 0, 0, 0, 0, 0, 0, 0], 3), 197: (1197, [0, 0, 0, 0, 0, 0, 0, 0, 0, 0], 7), 198: (1198, [0, 0, 0, 0, 0, 0, 0, 0, 0, 0], 5), 199: (1199, [0, 0, 0, 0, 0, 0, 0, 0, 0, 0], 5)}\n",
      "    \n",
      "    \n"
     ]
    }
   ],
   "source": [
    "widget_labels = ['airplane', 'car', 'bird', 'cat', 'deer', 'dog', 'frog', 'horse', 'ship', 'truck']\n",
    "confidence    = [4, 3, 2, 1, 0]\n",
    "items  = [widgets.RadioButtons(options=confidence, \n",
    "                layout=widgets.Layout(width='50px', height='150px'), value = 0) for l in widget_labels] \n",
    "widgetsBox = widgets.HBox([widgets.VBox([widgets.Label(widget_labels[l]), items[l]]) for l in range(0,len(widget_labels))])\n",
    "out        = widgets.Output()\n",
    "#Base of files \n",
    "\n",
    "userid = widgets.IntText(\n",
    "    value= 0,\n",
    "    description='USER ID#:',\n",
    "    disabled=False)\n",
    "\n",
    "invalid = widgets.HTML(\n",
    "    value=\"Invalid USER ID\",\n",
    "    placeholder='',\n",
    "    description='',\n",
    ")\n",
    "\n",
    "ok = widgets.Button(description='OK')\n",
    "\n",
    "name = widgets.Text(\n",
    "    value='',\n",
    "    placeholder=' ',\n",
    "    description='Full Name:',\n",
    "    disabled=False\n",
    ")\n",
    "\n",
    "\n",
    "display(title)\n",
    "display(instructions)\n",
    "display(i1)\n",
    "display(i2)\n",
    "display(r4)\n",
    "display(r3)\n",
    "display(r2)\n",
    "display(r1)\n",
    "display(r0)\n",
    "display(i3)\n",
    "display(i4)\n",
    "display(ok)\n",
    "\n",
    "ok.on_click(user)\n",
    "\n",
    "#Interactive widgets\n",
    "buttonNext = widgets.Button(description='Next')\n",
    "submit = widgets.Button(description=\"Submit\")\n",
    "back = widgets.Button(description=\"Back\")\n",
    "done = widgets.Button(description= 'Done!')\n",
    "#buttons\n",
    "\n",
    "buttonNext.on_click(on_buttonNext_clicked)\n",
    "done.on_click(finished_survey)\n",
    "    \n",
    "submit.on_click(user_id_images)\n",
    "\n",
    "#Displaying the original userid box\n",
    "\n",
    "\n",
    "V = userid.value\n",
    "ID1= (images_per_person*V)"
   ]
  },
  {
   "cell_type": "code",
   "execution_count": null,
   "metadata": {},
   "outputs": [],
   "source": []
  }
 ],
 "metadata": {
  "kernelspec": {
   "display_name": "Python 3",
   "language": "python",
   "name": "python3"
  },
  "language_info": {
   "codemirror_mode": {
    "name": "ipython",
    "version": 3
   },
   "file_extension": ".py",
   "mimetype": "text/x-python",
   "name": "python",
   "nbconvert_exporter": "python",
   "pygments_lexer": "ipython3",
   "version": "3.7.0"
  }
 },
 "nbformat": 4,
 "nbformat_minor": 2
}
